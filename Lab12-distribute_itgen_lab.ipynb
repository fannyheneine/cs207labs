{
 "cells": [
  {
   "cell_type": "markdown",
   "metadata": {
    "collapsed": true
   },
   "source": [
    "## Q1.\n",
    "\n",
    "Add methods `__iter__` to your project Time Series class to iterate over values, a method `itertimes` to iterate over times, a method `itervalues` to iterate over values, and a method `iteritems` to iterate over time-value pairs. (This is a similar interface to python dictionaries). To test these, check both the types of the results and the answers you expect."
   ]
  },
  {
   "cell_type": "code",
   "execution_count": 1,
   "metadata": {
    "collapsed": true
   },
   "outputs": [],
   "source": [
    "#your code here\n",
    "\n",
    "# PROJECT WORK, DONE IN TIMESERIES"
   ]
  },
  {
   "cell_type": "markdown",
   "metadata": {},
   "source": [
    "## Q2.\n",
    "\n",
    "An online mean and standard deviation algorithm.\n",
    "\n",
    "Below is a function to generate a potentially infinite stream of 1-D data."
   ]
  },
  {
   "cell_type": "code",
   "execution_count": 2,
   "metadata": {
    "collapsed": false
   },
   "outputs": [],
   "source": [
    "from random import normalvariate, random\n",
    "from itertools import count\n",
    "def make_data(m, stop=None):\n",
    "    for _ in count():\n",
    "        if stop and _ > stop:\n",
    "            break\n",
    "        yield 1.0e09 + normalvariate(0, m*random() )\n",
    "        "
   ]
  },
  {
   "cell_type": "markdown",
   "metadata": {},
   "source": [
    "Here is an implementation of an online mean algorithm..see http://www.johndcook.com/blog/standard_deviation/ and the link to http://www.johndcook.com/blog/2008/09/26/comparing-three-methods-of-computing-standard-deviation/ in-between. (Convince yourselves of the formulas...)"
   ]
  },
  {
   "cell_type": "code",
   "execution_count": 3,
   "metadata": {
    "collapsed": true
   },
   "outputs": [],
   "source": [
    "def online_mean(iterator):\n",
    "    n = 0\n",
    "    mu = 0\n",
    "    for value in iterator:\n",
    "        n += 1\n",
    "        delta = value - mu\n",
    "        mu = mu + delta/n\n",
    "        yield mu"
   ]
  },
  {
   "cell_type": "markdown",
   "metadata": {},
   "source": [
    "We use out generator functions to implement iterators:"
   ]
  },
  {
   "cell_type": "code",
   "execution_count": 4,
   "metadata": {
    "collapsed": false
   },
   "outputs": [
    {
     "data": {
      "text/plain": [
       "[999999997.6335508,\n",
       " 999999995.5217751,\n",
       " 1000000007.2486397,\n",
       " 1000000005.230493,\n",
       " 999999999.725441,\n",
       " 999999998.2443409,\n",
       " 999999999.4318136,\n",
       " 1000000000.9916475,\n",
       " 1000000004.1567211,\n",
       " 999999999.4261043,\n",
       " 1000000000.2778298]"
      ]
     },
     "execution_count": 4,
     "metadata": {},
     "output_type": "execute_result"
    }
   ],
   "source": [
    "g = make_data(5, 10)\n",
    "list(g)"
   ]
  },
  {
   "cell_type": "code",
   "execution_count": 5,
   "metadata": {
    "collapsed": false
   },
   "outputs": [
    {
     "name": "stdout",
     "output_type": "stream",
     "text": [
      "<class 'generator'>\n"
     ]
    },
    {
     "data": {
      "text/plain": [
       "[1000000003.2361003,\n",
       " 1000000001.094898,\n",
       " 1000000000.6241463,\n",
       " 1000000000.0102983,\n",
       " 1000000000.3717247,\n",
       " 1000000000.2115808,\n",
       " 1000000000.2315459,\n",
       " 1000000000.6636621,\n",
       " 1000000000.7987757,\n",
       " 1000000000.2435302,\n",
       " 1000000000.2292694,\n",
       " 1000000000.0952154,\n",
       " 1000000000.1129824,\n",
       " 1000000000.5425407,\n",
       " 1000000000.353186,\n",
       " 1000000000.2868539,\n",
       " 1000000000.2334214,\n",
       " 1000000000.2709838,\n",
       " 1000000000.1792333,\n",
       " 1000000000.2532129,\n",
       " 1000000000.1851764,\n",
       " 1000000000.2313493,\n",
       " 1000000000.1107204,\n",
       " 1000000000.2229116,\n",
       " 1000000000.1449037,\n",
       " 1000000000.0775439,\n",
       " 1000000000.1414028,\n",
       " 1000000000.1454087,\n",
       " 999999999.9856699,\n",
       " 999999999.9089572,\n",
       " 999999999.843495,\n",
       " 999999999.8356439,\n",
       " 999999999.8434027,\n",
       " 999999999.8842756,\n",
       " 999999999.9636945,\n",
       " 1000000000.047346,\n",
       " 999999999.76685,\n",
       " 999999999.7731135,\n",
       " 999999999.8477881,\n",
       " 1000000000.0522307,\n",
       " 1000000000.0443356,\n",
       " 1000000000.0228616,\n",
       " 999999999.9464047,\n",
       " 1000000000.033765,\n",
       " 1000000000.0067601,\n",
       " 999999999.9884827,\n",
       " 999999999.9882652,\n",
       " 1000000000.0689893,\n",
       " 1000000000.0678453,\n",
       " 1000000000.0443294,\n",
       " 1000000000.1172252,\n",
       " 1000000000.0055804,\n",
       " 1000000000.0189364,\n",
       " 1000000000.0199702,\n",
       " 1000000000.0350826,\n",
       " 1000000000.0371875,\n",
       " 1000000000.0348786,\n",
       " 1000000000.0349575,\n",
       " 999999999.9465214,\n",
       " 1000000000.0509692,\n",
       " 1000000000.0531801,\n",
       " 1000000000.0312842,\n",
       " 999999999.9497592,\n",
       " 999999999.9378091,\n",
       " 999999999.954052,\n",
       " 999999999.9271038,\n",
       " 1000000000.0260692,\n",
       " 1000000000.0286798,\n",
       " 1000000000.0444815,\n",
       " 1000000000.0291197,\n",
       " 1000000000.0494416,\n",
       " 1000000000.0394497,\n",
       " 1000000000.0620824,\n",
       " 1000000000.0524855,\n",
       " 1000000000.0564607,\n",
       " 1000000000.0318224,\n",
       " 1000000000.0110664,\n",
       " 1000000000.003607,\n",
       " 999999999.985267,\n",
       " 1000000000.0591235,\n",
       " 1000000000.0430937,\n",
       " 1000000000.0495139,\n",
       " 1000000000.1059973,\n",
       " 1000000000.0708374,\n",
       " 1000000000.0594256,\n",
       " 1000000000.0244479,\n",
       " 999999999.9635249,\n",
       " 1000000000.0122795,\n",
       " 1000000000.0653064,\n",
       " 1000000000.0664634,\n",
       " 1000000000.0257677,\n",
       " 1000000000.0314003,\n",
       " 1000000000.0389442,\n",
       " 1000000000.0537446,\n",
       " 1000000000.0499089,\n",
       " 1000000000.0481592,\n",
       " 1000000000.0502567,\n",
       " 1000000000.0508769,\n",
       " 1000000000.050075,\n",
       " 1000000000.0507394,\n",
       " 1000000000.0529968]"
      ]
     },
     "execution_count": 5,
     "metadata": {},
     "output_type": "execute_result"
    }
   ],
   "source": [
    "g = online_mean(make_data(5, 100))\n",
    "print(type(g))\n",
    "list(g)"
   ]
  },
  {
   "cell_type": "markdown",
   "metadata": {},
   "source": [
    "### 2.1\n",
    "\n",
    "Implement the standard deviation algorithm as a generator function as\n",
    "\n",
    "```python\n",
    "def online_mean_dev(iterator):\n",
    "    BLA BLA\n",
    "    if n > 1:\n",
    "        stddev = math.sqrt(dev_accum/(n-1))\n",
    "        yield (n, value, mu, stddev)\n",
    "```"
   ]
  },
  {
   "cell_type": "code",
   "execution_count": 14,
   "metadata": {
    "collapsed": false
   },
   "outputs": [],
   "source": [
    "# your code here\n",
    "import math\n",
    "# your code here\n",
    "def online_mean_dev(iterator):\n",
    "    n=0\n",
    "    mu=0\n",
    "    std=0\n",
    "    for value in iterator:\n",
    "        n+= 1\n",
    "        mu_in= mu\n",
    "        delta= value - mu\n",
    "        mu = mu + delta/n\n",
    "        \n",
    "        if n > 1:\n",
    "            error = std + (value - mu_in) * (value - mu_in)\n",
    "            std = math.sqrt(error/(n-1))\n",
    "            yield (n, value, mu, std)"
   ]
  },
  {
   "cell_type": "markdown",
   "metadata": {},
   "source": [
    "Here we make 100000 element data, and run this iterator on it (imagine running this on a time-series being slowly read from disk"
   ]
  },
  {
   "cell_type": "code",
   "execution_count": 7,
   "metadata": {
    "collapsed": true
   },
   "outputs": [],
   "source": [
    "data_with_stats = online_mean_dev(make_data(5, 100000))"
   ]
  },
  {
   "cell_type": "markdown",
   "metadata": {},
   "source": [
    "## Q3.\n",
    "\n",
    "Let's do Anomaly detection. Write a routine `is_ok`:\n",
    "\n",
    "```python\n",
    "def is_ok(level, t)\n",
    "```\n",
    "\n",
    "which takes a tuple like the one yielded by your code above and returns True if the value is inbetween `level`-$\\sigma$ of the mean."
   ]
  },
  {
   "cell_type": "code",
   "execution_count": 13,
   "metadata": {
    "collapsed": true
   },
   "outputs": [],
   "source": [
    "#your code here\n",
    "def is_ok(level, t):\n",
    "    value= t[1]\n",
    "    mu= t[2]\n",
    "    std= t[3]\n",
    "    diff= level-std\n",
    "    if diff < 0:\n",
    "        diff = 0\n",
    "    high= mu+diff\n",
    "    low= mu-diff\n",
    "    if (value>=low) and (value<=high):\n",
    "        yield True\n",
    "    yield False\n"
   ]
  },
  {
   "cell_type": "markdown",
   "metadata": {},
   "source": [
    "We use this function to create a predicate passed through to `itertools.filterfalse` which is then used to obtain an iterator on the anomalies."
   ]
  },
  {
   "cell_type": "code",
   "execution_count": 9,
   "metadata": {
    "collapsed": true
   },
   "outputs": [],
   "source": [
    "from itertools import filterfalse\n",
    "pred = lambda t: is_ok(5, t)\n",
    "anomalies = filterfalse(pred, data_with_stats)"
   ]
  },
  {
   "cell_type": "markdown",
   "metadata": {},
   "source": [
    "We materialize the anomalies..."
   ]
  },
  {
   "cell_type": "code",
   "execution_count": 10,
   "metadata": {
    "collapsed": false
   },
   "outputs": [
    {
     "data": {
      "text/plain": [
       "[]"
      ]
     },
     "execution_count": 10,
     "metadata": {},
     "output_type": "execute_result"
    }
   ],
   "source": [
    "list(anomalies)#materialize"
   ]
  },
  {
   "cell_type": "markdown",
   "metadata": {},
   "source": [
    "## To think of, but not hand in\n",
    "\n",
    "What kinds of anomalies will this algorithm pick up? What kinds would a shorter \"window\" of anomaly detection, like 100 points around the time in question pick? How might you create an algorithm which does window based averaging? (hint: the window size is small compared to the time series size). \n",
    "\n",
    "Finally think a bit of how you might implement all of this in a production environment..remember that data streaming in might get backed up when you handle an anomaly.\n",
    "\n",
    "(Some inspiration might accrue if you look at the docs for `collections.deque`)."
   ]
  },
  {
   "cell_type": "code",
   "execution_count": null,
   "metadata": {
    "collapsed": true
   },
   "outputs": [],
   "source": []
  }
 ],
 "metadata": {
  "kernelspec": {
   "display_name": "Python 3",
   "language": "python",
   "name": "python3"
  },
  "language_info": {
   "codemirror_mode": {
    "name": "ipython",
    "version": 3
   },
   "file_extension": ".py",
   "mimetype": "text/x-python",
   "name": "python",
   "nbconvert_exporter": "python",
   "pygments_lexer": "ipython3",
   "version": "3.5.1"
  }
 },
 "nbformat": 4,
 "nbformat_minor": 0
}
